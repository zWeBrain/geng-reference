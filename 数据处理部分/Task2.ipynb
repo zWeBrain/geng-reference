{
 "cells": [
  {
   "cell_type": "code",
   "execution_count": 1,
   "metadata": {},
   "outputs": [],
   "source": [
    "import re\n",
    "import os\n",
    "import sys\n",
    "import time\n",
    "import random\n",
    "import string\n",
    "import requests\n",
    "import datetime"
   ]
  },
  {
   "cell_type": "code",
   "execution_count": 2,
   "metadata": {},
   "outputs": [],
   "source": [
    "com = re.compile(r\",(\\d+)\\\">(\\w+)</d>\", re.M)\n",
    "com_info = re.compile(r\"\\\"cid\\\":(\\d+),.*?,\\\"long_title\\\":\\\"([^\\\"]+)\\\"\", re.M)\n",
    "com_trace = re.compile(r\"\\\"season_id\\\":(\\d+),.*?,\\\"title\\\":\\\"([^\\\"]+)\\\"\", re.M)\n",
    "## \"season_id\":26801,\"season_type\":1,\"stat\":{\"danmaku\":7126473,\"follow\":7844823,\"view\":443862480},\"title\":\"鬼灭之刃\","
   ]
  },
  {
   "cell_type": "code",
   "execution_count": 3,
   "metadata": {},
   "outputs": [],
   "source": [
    "headers = {'user-agent': 'Mozilla/5.0 (Windows NT 10.0; Win64; x64) AppleWebKit/537.36 (KHTML, like Gecko) Chrome/80.0.3987.163 Safari/537.36'}\n",
    "fanju_url = 'https://api.bilibili.com/pgc/web/season/section?season_id=2840'\n",
    "trace_url = 'https://api.bilibili.com/pgc/web/recommend/related/recommend?season_id=2539' "
   ]
  },
  {
   "cell_type": "code",
   "execution_count": 4,
   "metadata": {},
   "outputs": [],
   "source": [
    "response_trace = requests.get(trace_url, headers=headers)\n",
    "trace_xml = response_trace.content.decode(\"utf8\",\"ignore\")\n",
    "trace_name = com_trace.findall(trace_xml)"
   ]
  },
  {
   "cell_type": "code",
   "execution_count": 5,
   "metadata": {},
   "outputs": [
    {
     "data": {
      "text/plain": [
       "[('4316', '魔法少女小圆 剧场版 [前篇] 起始的物语'),\n",
       " ('25622', '终将成为你'),\n",
       " ('24622', '少女☆歌剧 Revue Starlight'),\n",
       " ('1699', '四月是你的谎言'),\n",
       " ('24630', '邪神与厨二病少女'),\n",
       " ('25619', '邻家索菲'),\n",
       " ('29351', '神推偶像登上武道馆我就死而无憾'),\n",
       " ('32938', '邪神与厨二病少女 第二季'),\n",
       " ('24571', 'ISLAND '),\n",
       " ('959', 'Angel Beats!'),\n",
       " ('29350', '恋爱小行星'),\n",
       " ('29109', '22/7'),\n",
       " ('32905', '动物新世代 / BNA'),\n",
       " ('30238', '奇幻☆怪盗'),\n",
       " ('28542', '动物狂想曲 / BEASTARS'),\n",
       " ('23878', '女神异闻录5 动画版'),\n",
       " ('1588', '罪恶王冠'),\n",
       " ('32982', '辉夜大小姐想让我告白？～天才们的恋爱头脑战～'),\n",
       " ('33055', '转生成为了只有乙女游戏破灭Flag的邪恶大小姐'),\n",
       " ('32963', '公主连结Re:Dive')]"
      ]
     },
     "execution_count": 5,
     "metadata": {},
     "output_type": "execute_result"
    }
   ],
   "source": [
    "trace_name"
   ]
  },
  {
   "cell_type": "code",
   "execution_count": 23,
   "metadata": {},
   "outputs": [],
   "source": [
    "trace_url = 'https://api.bilibili.com/pgc/web/recommend/related/recommend?season_id=' "
   ]
  },
  {
   "cell_type": "code",
   "execution_count": 28,
   "metadata": {},
   "outputs": [],
   "source": [
    "season = dict()\n",
    "for trace in trace_name:\n",
    "    if trace[0] not in season:\n",
    "        season[trace[0]] = trace[1]\n",
    "    response_trace = requests.get(trace_url+str(int(trace[0])), headers=headers)\n",
    "    trace_xml2 = response_trace.content.decode(\"utf8\",\"ignore\")\n",
    "    trace_name2 = com_trace.findall(trace_xml2)\n",
    "    for trace2 in trace_name2:\n",
    "        if trace2[0] not in season:\n",
    "            season[trace2[0]] = trace2[1]"
   ]
  },
  {
   "cell_type": "code",
   "execution_count": 63,
   "metadata": {},
   "outputs": [],
   "source": [
    "seasoncopy = season3.copy()\n",
    "season4 = dict()\n",
    "for trace in seasoncopy:\n",
    "    response_trace = requests.get(trace_url+str(trace), headers=headers)\n",
    "    trace_xml2 = response_trace.content.decode(\"utf8\",\"ignore\")\n",
    "    trace_name2 = com_trace.findall(trace_xml2)\n",
    "    for trace2 in trace_name2:\n",
    "        if trace2[0] not in season and trace2[0] not in season2 and trace2[0] not in season3:\n",
    "            season4[trace2[0]] = trace2[1]"
   ]
  },
  {
   "cell_type": "code",
   "execution_count": 60,
   "metadata": {},
   "outputs": [
    {
     "data": {
      "text/plain": [
       "{'1230': '无限之住人',\n",
       " '1855': '甲贺忍法帖',\n",
       " '21718': '樱花忍法帖',\n",
       " '1141': '天堂餐馆',\n",
       " '3360': '道子与哈金',\n",
       " '3434': '兽之奏者艾琳',\n",
       " '2731': '野良神',\n",
       " '3151': '异邦人 无皇刃谭',\n",
       " '1787': '逆转公主',\n",
       " '1206': '亡念之扎姆德',\n",
       " '4334': 'JOJO的奇妙冒险',\n",
       " '2506': '相聚一刻 完结篇',\n",
       " '2294': '奥运高手',\n",
       " '1330': '紫音之王',\n",
       " '24332': '明日之丈',\n",
       " '2989': '如果高中棒球社女经理读过杜拉克的《管理学》的话',\n",
       " '2410': '妙手小厨师',\n",
       " '2088': '战斗陀螺 第一季',\n",
       " '1688': '战斗之魂 第七季',\n",
       " '750': 'CROSS FIGHT 弹珠人',\n",
       " '222': '未来卡 搭档对战',\n",
       " '5380': '激斗战车（中文）',\n",
       " '744': '超速变形GYRO ZETTER',\n",
       " '4951': '轰烈弹珠人',\n",
       " '1695': '纸箱战机 第一部',\n",
       " '1929': '阴阳大战记',\n",
       " '1907': '苏生龙王传说',\n",
       " '4557': '爆TECH！爆丸',\n",
       " '1281': '蓝龙',\n",
       " '3262': '湾岸MIDNIGHT',\n",
       " '2238': '麻辣教师GTO',\n",
       " '1913': '极道鲜师',\n",
       " '1210': '深渊传说',\n",
       " '1474': '魂链',\n",
       " '2676': '境界线上的地平线',\n",
       " '1266': '破天荒游戏',\n",
       " '1460': '兽王星',\n",
       " '1728': '史上最强弟子兼一',\n",
       " '4751': '地狱少女 三鼎',\n",
       " '5792': '鬼平',\n",
       " '2470': '鲁邦三世 第二期',\n",
       " '5909': '神明之记',\n",
       " '3100': '石膏男孩',\n",
       " '2035': '东京地下城',\n",
       " '2059': '天使特警',\n",
       " '2197': '六翼天使之声',\n",
       " '906': '快盗天使TWIN ANGEL',\n",
       " '4106': '为什么猫都叫不来',\n",
       " '2794': '家有穆珂',\n",
       " '6295': '蜡笔小新 第六季（中文）',\n",
       " '249': '农林',\n",
       " '1470': '暗夜第六感',\n",
       " '4060': '笑对阴天',\n",
       " '4113': '虫奉行OVA',\n",
       " '2105': '超能奇兵',\n",
       " '2206': '此时此刻的我',\n",
       " '1782': '到另一个你的身边去',\n",
       " '2251': '玲音',\n",
       " '1902': '玛德莱克丝',\n",
       " '1250': '苍色骑士（中文）',\n",
       " '1371': '僵尸借贷',\n",
       " '3332': '老虎和兔子',\n",
       " '862': '丹特丽安的书架',\n",
       " '846': '电波女与青春男',\n",
       " '3145': '神不在的星期天',\n",
       " '4626': '偷影子的老鼠',\n",
       " '4900': '年老的鳄鱼',\n",
       " '4723': '乡村医生',\n",
       " '2988': '特别的她',\n",
       " '3019': '星空奇迹',\n",
       " '2151': '随风飘的月影兰',\n",
       " '1951': '太阳的使者 铁人28号',\n",
       " '3053': '银河铁道之夜 2006',\n",
       " '2873': '变形金刚大电影',\n",
       " '18': '网球并不可笑嘛 第二季',\n",
       " '3861': \"钢铁神兵B'T-X NEO\",\n",
       " '4734': '鹤屋和熏干酪',\n",
       " '1315': '校园理想乡 学美向前冲！',\n",
       " '2008': '瓶诘妖精',\n",
       " '2993': '绯弹的亚里亚',\n",
       " '1302': 'SOLA',\n",
       " '1078': '白色相簿 上半篇章',\n",
       " '2910': '真实之泪',\n",
       " '930': '+TIC模型姐妹',\n",
       " '5127': '我的妹妹小桃子',\n",
       " '5504': '喵阿楞',\n",
       " '2587': '迷糊餐厅 WORKING!!!',\n",
       " '282': '电器街的漫画店',\n",
       " '2104': '青春草莓蛋',\n",
       " '797': '光明之心 ～幸福的面包～',\n",
       " '111': '剑灵',\n",
       " '193': '龙娘七七七埋藏的宝藏',\n",
       " '33046': '水果篮子 第二季',\n",
       " '26390': '次元发电机',\n",
       " '32916': '影之诗',\n",
       " '5452': '幻想叙谭艾尔西亚',\n",
       " '1388': '传颂之物',\n",
       " '1995': '百变之星',\n",
       " '5546': '3年D班玻璃假面',\n",
       " '2447': '尼尔斯骑鹅旅行记',\n",
       " '2430': '小小外星人',\n",
       " '4926': '大魔法峠',\n",
       " '5040': '魔法少女？Naria☆Girls',\n",
       " '5955': '快盗天使 BREAK',\n",
       " '5213': '魂狩',\n",
       " '1535': '魔法少女奈叶',\n",
       " '1615': '魔法少女砂沙美',\n",
       " '4886': '砂沙美魔法少女俱乐部 第一季',\n",
       " '26885': '船梨精摇摇摇日和',\n",
       " '3312': '永恒传说',\n",
       " '1985': '宇宙星路',\n",
       " '1990': '高机动幻想～新结行军歌～',\n",
       " '1852': '人机续篇',\n",
       " '1469': '玻璃舰队',\n",
       " '2163': '星界的战旗 星界的纹章',\n",
       " '4992': '高机动幻想GPO 第二季',\n",
       " '1996': '星空清理者',\n",
       " '22288': '独自生活的小学生',\n",
       " '3233': '蛋黄酱萝莉',\n",
       " '1434': '贫穷姐妹物语',\n",
       " '1344': '素描簿',\n",
       " '26532': '法兰雀丝卡',\n",
       " '2334': '叮当猫',\n",
       " '1093': '明日的与一',\n",
       " '3813': '机巧魔神2',\n",
       " '5250': '纯情房东俏房客 Again',\n",
       " '1391': '仰望半月的夜空',\n",
       " '1966': '战争程序员白濑',\n",
       " '5460': '问答魔法学院',\n",
       " '3957': '勇者王GaoGaiGar Final',\n",
       " '3135': '归宅部活动记录',\n",
       " '4342': '超速变形螺旋杰特',\n",
       " '27499': '最终试验鲸鱼',\n",
       " '4876': '初夏',\n",
       " '3209': '牙狼 -炎之刻印-',\n",
       " '1832': '帕塔利洛西游记',\n",
       " '2073': '闪灵二人组',\n",
       " '2210': '仙界传 封神演义',\n",
       " '1430': '银色的奥林西斯',\n",
       " '1277': '机神大战巨型方程式',\n",
       " '1879': '吟游默示录 wieder',\n",
       " '25469': '如果历史是一群喵',\n",
       " '24438': '小绿和小蓝',\n",
       " '25813': '萌妻食神',\n",
       " '24638': '我家大师兄脑子有坑 特别篇',\n",
       " '6360': '刺客伍六七',\n",
       " '23772': '让我们烧吧！！！',\n",
       " '25567': '通灵妃',\n",
       " '25618': '0号宿舍',\n",
       " '25585': '猫妖的诱惑 先行版',\n",
       " '26015': '王者？别闹！',\n",
       " '24608': '少年歌行',\n",
       " '1733': '罗小黑战记',\n",
       " '24971': '请吃红小豆吧！',\n",
       " '5626': '镇魂街 第二季',\n",
       " '24267': '剑网3·侠肝义胆沈剑心',\n",
       " '6038': '风灵玉秀',\n",
       " '5852': '全职高手 第一季',\n",
       " '22088': '灵笼',\n",
       " '23837': '斩兽之刃',\n",
       " '22087': '凸变英雄 LEAF',\n",
       " '2280': '灵异猎人',\n",
       " '1813': '牙-KIBA',\n",
       " '218': '机器人少女Z',\n",
       " '3770': 'SHUFFLE! MEMORIES',\n",
       " '3802': '机器人少女Z+',\n",
       " '3958': '勇者王GaoGaiGar Final Grand Glorious Gathering',\n",
       " '2202': '虫孽',\n",
       " '5478': '超机甲发明小子',\n",
       " '6401': '新造人间卡辛（1973）',\n",
       " '1920': '月咏-MOON PHASE-',\n",
       " '2060': '天使特警2',\n",
       " '5558': '动画锻炼！XX 同一屋檐下',\n",
       " '5022': '热诚传说X',\n",
       " '4384': '大怪兽RUSH',\n",
       " '25851': '爱玩怪兽',\n",
       " '2617': '黑白小姐 第二季',\n",
       " '685': 'K',\n",
       " '2475': '钢铁杰克',\n",
       " '6489': '破里拳 Hurricane Polimar',\n",
       " '1289': '钢铁神吉克',\n",
       " '2482': '铁甲飞天侠',\n",
       " '5418': '神秘岛',\n",
       " '3012': '希曼的新冒险',\n",
       " '5391': '降世神通：最后的气宗 第一季',\n",
       " '1571': '黏黏糊糊！！角质君',\n",
       " '1519': '血型君2',\n",
       " '6262': '蜡笔小新 第二季（中文）',\n",
       " '821': '零之使魔F',\n",
       " '4738': '铁腕巴迪 DECODE 第二季',\n",
       " '2298': 'VS骑士弹珠汽水&40炎',\n",
       " '27819': '酷妹当家',\n",
       " '5410': '若草四姐妹',\n",
       " '1295': '地球防卫少年',\n",
       " '698': '魔装少女就是本少爷 第二季',\n",
       " '992': '女仆咖啡厅',\n",
       " '2241': '如果在梦里遇见你',\n",
       " '1445': 'ZEGAPAIN',\n",
       " '1002': '超级机器人大战OG -DIVINE WARS- 第二季',\n",
       " '3263': '机械女神J',\n",
       " '1656': '无头骑士异闻录',\n",
       " '978': '荒川爆笑团',\n",
       " '1482': '怪医美女RAY'}"
      ]
     },
     "execution_count": 60,
     "metadata": {},
     "output_type": "execute_result"
    }
   ],
   "source": [
    "season3"
   ]
  },
  {
   "cell_type": "code",
   "execution_count": 65,
   "metadata": {},
   "outputs": [
    {
     "data": {
      "text/plain": [
       "144"
      ]
     },
     "execution_count": 65,
     "metadata": {},
     "output_type": "execute_result"
    }
   ],
   "source": [
    "len(season4)"
   ]
  },
  {
   "cell_type": "code",
   "execution_count": 66,
   "metadata": {},
   "outputs": [],
   "source": [
    "def build_b(terms_id):\n",
    "    path = \"season_id4.csv\"\n",
    "    with open(path, 'w', newline='') as f:\n",
    "        writer = csv.writer(f)\n",
    "        try:\n",
    "            for key in terms_id:\n",
    "                list2= []\n",
    "                list2.append(key)\n",
    "                list2.append(terms_id[key])\n",
    "                try:\n",
    "                    writer.writerow(list2)\n",
    "                except UnicodeEncodeError:\n",
    "                    print(list2)\n",
    "        finally:\n",
    "            f.close()"
   ]
  },
  {
   "cell_type": "code",
   "execution_count": 67,
   "metadata": {},
   "outputs": [
    {
     "name": "stdout",
     "output_type": "stream",
     "text": [
      "['1262', 'Stories\\xa0of\\xa0Last\\xa0Letter']\n",
      "['2081', '真・女神转生 魔力宝贝']\n",
      "['920', '玛莉亚†狂热']\n",
      "['6532', 'D·N·A² ~他到底失去了什么？~ OVA']\n",
      "['3824', '你所期望的永远 〜Next Season〜']\n"
     ]
    }
   ],
   "source": [
    "build_b(season4)"
   ]
  },
  {
   "cell_type": "code",
   "execution_count": 49,
   "metadata": {},
   "outputs": [],
   "source": [
    "import csv"
   ]
  },
  {
   "cell_type": "code",
   "execution_count": null,
   "metadata": {},
   "outputs": [],
   "source": [
    "build_b(season2)"
   ]
  }
 ],
 "metadata": {
  "kernelspec": {
   "display_name": "Python 3",
   "language": "python",
   "name": "python3"
  },
  "language_info": {
   "codemirror_mode": {
    "name": "ipython",
    "version": 3
   },
   "file_extension": ".py",
   "mimetype": "text/x-python",
   "name": "python",
   "nbconvert_exporter": "python",
   "pygments_lexer": "ipython3",
   "version": "3.7.4"
  }
 },
 "nbformat": 4,
 "nbformat_minor": 4
}
